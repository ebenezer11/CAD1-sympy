{
 "cells": [
  {
   "cell_type": "markdown",
   "metadata": {},
   "source": [
    "# Case study - Trajectory of a projectile"
   ]
  },
  {
   "cell_type": "code",
<<<<<<< HEAD
   "execution_count": 1,
=======
<<<<<<< HEAD
   "execution_count": 1,
=======
   "execution_count": 233,
>>>>>>> 842c13460367681d179be646cabb644e053e2e15
>>>>>>> 11314b14ccbd9501aa799503768507a4d498526c
   "metadata": {
    "collapsed": true
   },
   "outputs": [],
   "source": [
    "%matplotlib inline\n",
    "import matplotlib.pyplot as plt\n",
    "from sympy import * \n",
    "init_printing(use_unicode=True)\n",
    "import numpy as np "
   ]
  },
  {
   "cell_type": "markdown",
   "metadata": {
    "collapsed": true
   },
   "source": [
    "## Objectives\n",
    "* Study characteristics of the trajectory of a projectile in the ideal case of a motion in a uniform gravitational field\n",
    " ![](./trajectory_of_projectile.png)"
   ]
  },
  {
   "cell_type": "markdown",
   "metadata": {},
   "source": [
    "## 1. Equation of the trajectory\n",
    "\n",
    "In the ideal case of a motion in a uniform gravitational field, in the absence of other forces (such as air drag), the trajectory of a projectile is described by a parabola given by:\n",
    "\n",
    "eq(1) :$$ z(x) = -\\frac{1}{2}g\\frac{x^2}{v^{2}_{0} \\cos^2 \\alpha} + x\\tan \\alpha + h $$  \n",
    "\n",
    "where $g$ is the acceleration of gravity (9.81 $ms^{−2}$ ), $v_{0}$ is the initial velocity of the projectile, $\\alpha$ is the angle of elevation and $h$ is the initial altitude from which the projectile is thrown.\n",
    "\n",
    "\n"
   ]
  },
  {
   "cell_type": "markdown",
   "metadata": {},
   "source": [
    "\n",
    "* Q1.1 - Create a function that represents equation (1)."
   ]
  },
  {
   "cell_type": "code",
<<<<<<< HEAD
   "execution_count": 82,
=======
<<<<<<< HEAD
   "execution_count": 82,
   "metadata": {},
   "outputs": [],
   "source": [
    "from sympy import*\n",
    "import numpy as np\n",
    "g,h , x, v0,alpha = symbols('g, h, x, v0, alpha', positive = True)     \n",
    "def f(x, alpha, v0, h, g=9.81):      \n",
    "        return(-g*x**2/(2*(v0**2)*(cos(alpha)*cos(alpha))))+ x*tan(alpha)+h "
   ]
  },
  {
   "cell_type": "code",
   "execution_count": null,
>>>>>>> 11314b14ccbd9501aa799503768507a4d498526c
   "metadata": {},
   "outputs": [],
   "source": [
    "from sympy import*\n",
    "import numpy as np\n",
    "g,h , x, v0,alpha = symbols('g, h, x, v0, alpha', positive = True)     \n",
    "def f(x, alpha, v0, h, g=9.81):      \n",
    "        return(-g*x**2/(2*(v0**2)*(cos(alpha)*cos(alpha))))+ x*tan(alpha)+h "
   ]
  },
  {
   "cell_type": "code",
   "execution_count": null,
   "metadata": {},
   "outputs": [],
   "source": []
  },
  {
   "cell_type": "code",
   "execution_count": 72,
   "metadata": {
    "collapsed": true
   },
   "outputs": [],
   "source": []
  },
  {
   "cell_type": "code",
<<<<<<< HEAD
   "execution_count": null,
=======
   "execution_count": 72,
   "metadata": {
    "collapsed": true
   },
   "outputs": [],
   "source": []
=======
   "execution_count": 4,
   "metadata": {},
   "outputs": [
    {
     "ename": "SyntaxError",
     "evalue": "invalid syntax (<ipython-input-4-16684703ba0d>, line 4)",
     "output_type": "error",
     "traceback": [
      "\u001b[0;36m  File \u001b[0;32m\"<ipython-input-4-16684703ba0d>\"\u001b[0;36m, line \u001b[0;32m4\u001b[0m\n\u001b[0;31m    z(x) = -1/2 * g * x**2/v0**2*cos**2.alpha + x* tan.alpha + h\u001b[0m\n\u001b[0m                                            ^\u001b[0m\n\u001b[0;31mSyntaxError\u001b[0m\u001b[0;31m:\u001b[0m invalid syntax\n"
     ]
    }
   ],
   "source": [
    "from sympy import*\n",
    "import numpy as np\n",
    "g,h , x, v0,alpha = symbols('g,x,alpha,v0,h', positive = True)\n",
    "z(x) = -1/2 * g * x**2/v0**2*cos**2.alpha + x* tan.alpha + h"
   ]
>>>>>>> 842c13460367681d179be646cabb644e053e2e15
  },
  {
   "cell_type": "code",
   "execution_count": null,
<<<<<<< HEAD
>>>>>>> 11314b14ccbd9501aa799503768507a4d498526c
   "metadata": {},
=======
   "metadata": {
    "collapsed": true
   },
>>>>>>> 842c13460367681d179be646cabb644e053e2e15
   "outputs": [],
   "source": []
  },
  {
   "cell_type": "markdown",
   "metadata": {},
   "source": [
    "\n",
    "* Q 1.2 - Plot the trajectory for the following set of parameters\n",
    "    * $h = 1.70m$\n",
    "    * $\\alpha = 40^{\\circ}$\n",
    "    * $ v_{0} = 8 ms^{−1}$"
   ]
  },
  {
   "cell_type": "code",
   "execution_count": 76,
   "metadata": {
    "collapsed": true,
    "scrolled": true
   },
   "outputs": [],
   "source": [
    "\n",
    "c = z.subs({g:9.81, alpha:np.deg2rad(40), h:1.70,v0:8})"
   ]
  },
  {
   "cell_type": "code",
<<<<<<< HEAD
=======
<<<<<<< HEAD
>>>>>>> 11314b14ccbd9501aa799503768507a4d498526c
   "execution_count": 83,
   "metadata": {},
   "outputs": [
    {
     "data": {
      "image/png": "iVBORw0KGgoAAAANSUhEUgAAAYcAAADzCAYAAABt2todAAAABHNCSVQICAgIfAhkiAAAAAlwSFlz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\nQbIAAAAASUVORK5CYII=\n",
      "text/plain": [
       "<matplotlib.figure.Figure at 0x7f3e387b8e10>"
      ]
     },
     "metadata": {},
     "output_type": "display_data"
    },
    {
     "data": {
      "text/plain": [
       "<sympy.plotting.plot.Plot at 0x7f3e38c682e8>"
      ]
     },
     "execution_count": 83,
     "metadata": {},
     "output_type": "execute_result"
    }
   ],
   "source": [
    "\n",
    "plot (c,(x,0, 10))"
   ]
<<<<<<< HEAD
=======
=======
   "execution_count": null,
   "metadata": {
    "collapsed": true
   },
   "outputs": [],
   "source": []
>>>>>>> 842c13460367681d179be646cabb644e053e2e15
>>>>>>> 11314b14ccbd9501aa799503768507a4d498526c
  },
  {
   "cell_type": "markdown",
   "metadata": {},
   "source": [
    "* Q 1.3 - On the same graph, plot several trajectories of projectile launched at different elevation angles but with the same speed v0 = 8ms−1 and the same initial altitude h = 1.70m."
   ]
  },
  {
   "cell_type": "code",
   "execution_count": 93,
   "metadata": {
    "collapsed": true,
    "scrolled": true
   },
   "outputs": [
    {
     "data": {
      "image/png": "iVBORw0KGgoAAAANSUhEUgAAARsAAAAmCAYAAAD0vj/mAAAABHNCSVQICAgIfAhkiAAACvNJREFU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\n4XA4kvA/Pnfb+BhraxYAAAAASUVORK5CYII=\n",
      "text/latex": [
       "$$- \\frac{0.076640625 x^{2}}{\\cos^{2}{\\left (\\alpha \\right )}} + x \\tan{\\left (\\alpha \\right )} + 1.7$$"
      ],
      "text/plain": [
       "               2                 \n",
       "  0.076640625⋅x                  \n",
       "- ────────────── + x⋅tan(α) + 1.7\n",
       "        2                        \n",
       "     cos (α)                     "
      ]
     },
     "execution_count": 93,
     "metadata": {},
     "output_type": "execute_result"
    }
   ],
   "source": [
    "fr = f(x, alpha, v0 = 8, h=1.7)\n",
    "fr\n"
   ]
  },
  {
   "cell_type": "code",
<<<<<<< HEAD
=======
<<<<<<< HEAD
>>>>>>> 11314b14ccbd9501aa799503768507a4d498526c
   "execution_count": 96,
   "metadata": {},
   "outputs": [
    {
     "data": {
      "image/png": "iVBORw0KGgoAAAANSUhEUgAAAYcAAAD7CAYAAACBiVhwAAAABHNCSVQICAgIfAhkiAAAAAlwSFlz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\ngg==\n",
      "text/plain": [
       "<matplotlib.figure.Figure at 0x7f3e3866ba20>"
      ]
     },
     "metadata": {},
     "output_type": "display_data"
    }
   ],
   "source": [
    "r = [10, 20, 30, 40]\n",
    "r = np.deg2rad(r)\n",
    "l1 = [f(x, alpha=a, v0=8, h=1.7) for a in r]\n",
    "p3 = plot(*l1, (x, 0,  10), show=False, title = 'projectile path for different alpha ', legend = ['a'], loc=3)\n",
    "p3[0].line_color = 'r', \n",
    "p3[1].line_color = 'b'\n",
    "p3[2].line_color = 'k'\n",
    "p3[3].line_color = 'c'\n",
    "\n",
    "p3.show()"
   ]
<<<<<<< HEAD
=======
=======
   "execution_count": null,
   "metadata": {
    "collapsed": true
   },
   "outputs": [],
   "source": []
>>>>>>> 842c13460367681d179be646cabb644e053e2e15
>>>>>>> 11314b14ccbd9501aa799503768507a4d498526c
  },
  {
   "cell_type": "markdown",
   "metadata": {},
   "source": [
    "## 2. Trajectory analysis\n"
   ]
  },
  {
   "cell_type": "markdown",
   "metadata": {},
   "source": [
    "* Q 2.1 - Determine a function $f_h(\\alpha, v_0 , h)$ that returns the greatest parabolic height a object reaches within its trajectory.\n",
    "\n"
   ]
  },
  {
   "cell_type": "code",
<<<<<<< HEAD
=======
<<<<<<< HEAD
>>>>>>> 11314b14ccbd9501aa799503768507a4d498526c
   "execution_count": 97,
   "metadata": {},
   "outputs": [
    {
     "data": {
      "image/png": "iVBORw0KGgoAAAANSUhEUgAAAMwAAAApCAYAAAB5q8bDAAAABHNCSVQICAgIfAhkiAAACkZJREFU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\n04P/A3y4AfQWkqDqAAAAAElFTkSuQmCC\n",
      "text/latex": [
       "$$h + x \\tan{\\left (\\alpha \\right )} - \\frac{4.905 x^{2}}{v_{0}^{2} \\cos^{2}{\\left (\\alpha \\right )}}$$"
      ],
      "text/plain": [
       "                        2 \n",
       "                 4.905⋅x  \n",
       "h + x⋅tan(α) - ───────────\n",
       "                 2    2   \n",
       "               v₀ ⋅cos (α)"
      ]
     },
     "execution_count": 97,
     "metadata": {},
     "output_type": "execute_result"
    }
   ],
   "source": [
    "f(x, alpha, v0, h)"
   ]
<<<<<<< HEAD
=======
=======
   "execution_count": null,
   "metadata": {
    "collapsed": true
   },
   "outputs": [],
   "source": []
>>>>>>> 842c13460367681d179be646cabb644e053e2e15
>>>>>>> 11314b14ccbd9501aa799503768507a4d498526c
  },
  {
   "cell_type": "code",
   "execution_count": null,
   "metadata": {
    "collapsed": true
   },
   "outputs": [],
   "source": []
  },
  {
   "cell_type": "markdown",
   "metadata": {},
   "source": [
    "* Q 2.2 - Determine a function $f_R(\\alpha, v_0, h)$ that gives the range defined by the greatest distance aobject travels\n",
    "along the x axis."
   ]
  },
  {
   "cell_type": "code",
   "execution_count": null,
   "metadata": {
    "collapsed": true
   },
   "outputs": [],
   "source": []
  },
  {
   "cell_type": "code",
   "execution_count": null,
   "metadata": {
    "collapsed": true
   },
   "outputs": [],
   "source": []
  },
  {
   "cell_type": "markdown",
   "metadata": {},
   "source": [
    "* Q 2.3 - Illustrate with a graphic that an optimal value of $\\alpha$ provides the highest range.\n",
    "\n"
   ]
  },
  {
   "cell_type": "code",
   "execution_count": null,
   "metadata": {
    "collapsed": true
   },
   "outputs": [],
   "source": []
  },
  {
   "cell_type": "code",
   "execution_count": null,
   "metadata": {
    "collapsed": true
   },
   "outputs": [],
   "source": []
  },
  {
   "cell_type": "markdown",
   "metadata": {},
   "source": [
    "* Q 2.4 - Try to find a symbolic solution of $\\alpha$ optimum . Give an numeric solution for the set of parameters defined in section 1.\n"
   ]
  },
  {
   "cell_type": "code",
   "execution_count": null,
   "metadata": {
    "collapsed": true
   },
   "outputs": [],
   "source": []
  },
  {
   "cell_type": "markdown",
   "metadata": {},
   "source": [
    "\n",
    "* Q 2.5 - In the specific case where $h$ = 0, give an algebraic solution of $\\alpha$ optimum ."
   ]
  },
  {
   "cell_type": "code",
   "execution_count": null,
   "metadata": {
    "collapsed": true
   },
   "outputs": [],
   "source": []
  },
  {
   "cell_type": "markdown",
   "metadata": {},
   "source": [
    "## 3. Starting from scratch\n"
   ]
  },
  {
   "cell_type": "markdown",
   "metadata": {},
   "source": [
    "Consider a particle of mass $m$, the Newton second law states:\n",
    "$$F = ma$$\n",
    "where $F$ and $a$ represent respectively the sum of forces and the acceleration of the projectile. \n",
    "Since we only consider the ideal case with $F = m\\overrightarrow{g} = −mg\\overrightarrow{z}$. \n",
    "Therefore, if we only consider the trajectory of in the plane $O\\overrightarrow{x}\\overrightarrow{z}$\n",
    "\n",
    "\n",
    "we can write the coordinate of the mobile $M$ according to $\\overrightarrow{OM}= \n",
    "\\begin{pmatrix} \n",
    "  x \\\\\n",
    "  z \n",
    "\\end{pmatrix}$\n",
    "\n",
    "eq(2):\n",
    "$$\\begin{pmatrix} \n",
    "  0 \\\\\n",
    "  -g \n",
    "\\end{pmatrix} = \\frac{d^2 \\overrightarrow{OM}}{dt^2} = \n",
    "\\begin{pmatrix} \n",
    "  \\frac{d^2 x}{dt^2} \\\\\n",
    "  \\frac{d^2 z}{dt^2}\n",
    "\\end{pmatrix}$$"
   ]
  },
  {
   "cell_type": "markdown",
   "metadata": {},
   "source": [
    "* Q 3.1 - By integrating equation (2) and using correct initial constant, compute the two equations $x(t)$ and $z(t)$.\n"
   ]
  },
  {
   "cell_type": "code",
   "execution_count": null,
   "metadata": {
    "collapsed": true
   },
   "outputs": [],
   "source": []
  },
  {
   "cell_type": "code",
   "execution_count": null,
   "metadata": {
    "collapsed": true
   },
   "outputs": [],
   "source": []
  }
 ],
 "metadata": {
  "kernelspec": {
   "display_name": "Python 3",
   "language": "python",
   "name": "python3"
  },
  "language_info": {
   "codemirror_mode": {
    "name": "ipython",
    "version": 3
   },
   "file_extension": ".py",
   "mimetype": "text/x-python",
   "name": "python",
   "nbconvert_exporter": "python",
   "pygments_lexer": "ipython3",
   "version": "3.6.1"
  }
 },
 "nbformat": 4,
 "nbformat_minor": 2
}
