{
 "cells": [
  {
   "cell_type": "markdown",
   "metadata": {},
   "source": [
    "# Case study - Trajectory of a projectile"
   ]
  },
  {
   "cell_type": "code",
   "execution_count": 233,
   "metadata": {
    "collapsed": true
   },
   "outputs": [],
   "source": [
    "%matplotlib inline\n",
    "import matplotlib.pyplot as plt\n",
    "from sympy import * \n",
    "init_printing(use_unicode=True)\n",
    "import numpy as np "
   ]
  },
  {
   "cell_type": "markdown",
   "metadata": {
    "collapsed": true
   },
   "source": [
    "## Objectives\n",
    "* Study characteristics of the trajectory of a projectile in the ideal case of a motion in a uniform gravitational field\n",
    " ![](./trajectory_of_projectile.png)"
   ]
  },
  {
   "cell_type": "markdown",
   "metadata": {},
   "source": [
    "## 1. Equation of the trajectory\n",
    "\n",
    "In the ideal case of a motion in a uniform gravitational field, in the absence of other forces (such as air drag), the trajectory of a projectile is described by a parabola given by:\n",
    "\n",
    "eq(1) :$$ z(x) = -\\frac{1}{2}g\\frac{x^2}{v^{2}_{0} \\cos^2 \\alpha} + x\\tan \\alpha + h $$  \n",
    "\n",
    "where $g$ is the acceleration of gravity (9.81 $ms^{−2}$ ), $v_{0}$ is the initial velocity of the projectile, $\\alpha$ is the angle of elevation and $h$ is the initial altitude from which the projectile is thrown.\n",
    "\n",
    "\n"
   ]
  },
  {
   "cell_type": "markdown",
   "metadata": {},
   "source": [
    "\n",
    "* Q1.1 - Create a function that represents equation (1)."
   ]
  },
  {
   "cell_type": "code",
   "execution_count": 4,
   "metadata": {},
   "outputs": [
    {
     "ename": "SyntaxError",
     "evalue": "invalid syntax (<ipython-input-4-16684703ba0d>, line 4)",
     "output_type": "error",
     "traceback": [
      "\u001b[0;36m  File \u001b[0;32m\"<ipython-input-4-16684703ba0d>\"\u001b[0;36m, line \u001b[0;32m4\u001b[0m\n\u001b[0;31m    z(x) = -1/2 * g * x**2/v0**2*cos**2.alpha + x* tan.alpha + h\u001b[0m\n\u001b[0m                                            ^\u001b[0m\n\u001b[0;31mSyntaxError\u001b[0m\u001b[0;31m:\u001b[0m invalid syntax\n"
     ]
    }
   ],
   "source": [
    "from sympy import*\n",
    "import numpy as np\n",
    "g,h , x, v0,alpha = symbols('g,x,alpha,v0,h', positive = True)\n",
    "z(x) = -1/2 * g * x**2/v0**2*cos**2.alpha + x* tan.alpha + h"
   ]
  },
  {
   "cell_type": "code",
   "execution_count": null,
   "metadata": {
    "collapsed": true
   },
   "outputs": [],
   "source": []
  },
  {
   "cell_type": "markdown",
   "metadata": {},
   "source": [
    "\n",
    "* Q 1.2 - Plot the trajectory for the following set of parameters\n",
    "    * $h = 1.70m$\n",
    "    * $\\alpha = 40^{\\circ}$\n",
    "    * $ v_{0} = 8 ms^{−1}$"
   ]
  },
  {
   "cell_type": "code",
   "execution_count": null,
   "metadata": {
    "collapsed": true,
    "scrolled": true
   },
   "outputs": [],
   "source": []
  },
  {
   "cell_type": "code",
   "execution_count": null,
   "metadata": {
    "collapsed": true
   },
   "outputs": [],
   "source": []
  },
  {
   "cell_type": "markdown",
   "metadata": {},
   "source": [
    "* Q 1.3 - On the same graph, plot several trajectories of projectile launched at different elevation angles but with the same speed v0 = 8ms−1 and the same initial altitude h = 1.70m."
   ]
  },
  {
   "cell_type": "code",
   "execution_count": null,
   "metadata": {
    "collapsed": true,
    "scrolled": true
   },
   "outputs": [],
   "source": []
  },
  {
   "cell_type": "code",
   "execution_count": null,
   "metadata": {
    "collapsed": true
   },
   "outputs": [],
   "source": []
  },
  {
   "cell_type": "markdown",
   "metadata": {},
   "source": [
    "## 2. Trajectory analysis\n"
   ]
  },
  {
   "cell_type": "markdown",
   "metadata": {},
   "source": [
    "* Q 2.1 - Determine a function $f_h(\\alpha, v_0 , h)$ that returns the greatest parabolic height a object reaches within its trajectory.\n",
    "\n"
   ]
  },
  {
   "cell_type": "code",
   "execution_count": null,
   "metadata": {
    "collapsed": true
   },
   "outputs": [],
   "source": []
  },
  {
   "cell_type": "code",
   "execution_count": null,
   "metadata": {
    "collapsed": true
   },
   "outputs": [],
   "source": []
  },
  {
   "cell_type": "markdown",
   "metadata": {},
   "source": [
    "* Q 2.2 - Determine a function $f_R(\\alpha, v_0, h)$ that gives the range defined by the greatest distance aobject travels\n",
    "along the x axis."
   ]
  },
  {
   "cell_type": "code",
   "execution_count": null,
   "metadata": {
    "collapsed": true
   },
   "outputs": [],
   "source": []
  },
  {
   "cell_type": "code",
   "execution_count": null,
   "metadata": {
    "collapsed": true
   },
   "outputs": [],
   "source": []
  },
  {
   "cell_type": "markdown",
   "metadata": {},
   "source": [
    "* Q 2.3 - Illustrate with a graphic that an optimal value of $\\alpha$ provides the highest range.\n",
    "\n"
   ]
  },
  {
   "cell_type": "code",
   "execution_count": null,
   "metadata": {
    "collapsed": true
   },
   "outputs": [],
   "source": []
  },
  {
   "cell_type": "code",
   "execution_count": null,
   "metadata": {
    "collapsed": true
   },
   "outputs": [],
   "source": []
  },
  {
   "cell_type": "markdown",
   "metadata": {},
   "source": [
    "* Q 2.4 - Try to find a symbolic solution of $\\alpha$ optimum . Give an numeric solution for the set of parameters defined in section 1.\n"
   ]
  },
  {
   "cell_type": "code",
   "execution_count": null,
   "metadata": {
    "collapsed": true
   },
   "outputs": [],
   "source": []
  },
  {
   "cell_type": "markdown",
   "metadata": {},
   "source": [
    "\n",
    "* Q 2.5 - In the specific case where $h$ = 0, give an algebraic solution of $\\alpha$ optimum ."
   ]
  },
  {
   "cell_type": "code",
   "execution_count": null,
   "metadata": {
    "collapsed": true
   },
   "outputs": [],
   "source": []
  },
  {
   "cell_type": "markdown",
   "metadata": {},
   "source": [
    "## 3. Starting from scratch\n"
   ]
  },
  {
   "cell_type": "markdown",
   "metadata": {},
   "source": [
    "Consider a particle of mass $m$, the Newton second law states:\n",
    "$$F = ma$$\n",
    "where $F$ and $a$ represent respectively the sum of forces and the acceleration of the projectile. \n",
    "Since we only consider the ideal case with $F = m\\overrightarrow{g} = −mg\\overrightarrow{z}$. \n",
    "Therefore, if we only consider the trajectory of in the plane $O\\overrightarrow{x}\\overrightarrow{z}$\n",
    "\n",
    "\n",
    "we can write the coordinate of the mobile $M$ according to $\\overrightarrow{OM}= \n",
    "\\begin{pmatrix} \n",
    "  x \\\\\n",
    "  z \n",
    "\\end{pmatrix}$\n",
    "\n",
    "eq(2):\n",
    "$$\\begin{pmatrix} \n",
    "  0 \\\\\n",
    "  -g \n",
    "\\end{pmatrix} = \\frac{d^2 \\overrightarrow{OM}}{dt^2} = \n",
    "\\begin{pmatrix} \n",
    "  \\frac{d^2 x}{dt^2} \\\\\n",
    "  \\frac{d^2 z}{dt^2}\n",
    "\\end{pmatrix}$$"
   ]
  },
  {
   "cell_type": "markdown",
   "metadata": {},
   "source": [
    "* Q 3.1 - By integrating equation (2) and using correct initial constant, compute the two equations $x(t)$ and $z(t)$.\n"
   ]
  },
  {
   "cell_type": "code",
   "execution_count": null,
   "metadata": {
    "collapsed": true
   },
   "outputs": [],
   "source": []
  },
  {
   "cell_type": "code",
   "execution_count": null,
   "metadata": {
    "collapsed": true
   },
   "outputs": [],
   "source": []
  }
 ],
 "metadata": {
  "kernelspec": {
   "display_name": "Python 3",
   "language": "python",
   "name": "python3"
  },
  "language_info": {
   "codemirror_mode": {
    "name": "ipython",
    "version": 3
   },
   "file_extension": ".py",
   "mimetype": "text/x-python",
   "name": "python",
   "nbconvert_exporter": "python",
   "pygments_lexer": "ipython3",
   "version": "3.6.1"
  }
 },
 "nbformat": 4,
 "nbformat_minor": 2
}
