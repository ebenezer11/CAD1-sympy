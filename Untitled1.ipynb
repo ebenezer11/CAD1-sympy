{
 "cells": [
  {
   "cell_type": "code",
   "execution_count": 110,
   "metadata": {
    "collapsed": true
   },
   "outputs": [],
   "source": [
    "\n",
    "from sympy import *\n",
    "import numpy as np\n",
    "init_printing(use_unicode=True)\n",
    "x,y,z =symbols('x y z')"
   ]
  },
  {
   "cell_type": "code",
   "execution_count": 91,
   "metadata": {},
   "outputs": [
    {
     "data": {
      "image/png": "[encoded data removed]",
      "text/latex": [
       "$$\\left [ -3 - \\sqrt{8 + 2 i}, \\quad -3 + \\sqrt{8 + 2 i}\\right ]$$"
      ],
      "text/plain": [
       "⎡       _________         _________⎤\n",
       "⎣-3 - ╲╱ 8 + 2⋅ⅈ , -3 + ╲╱ 8 + 2⋅ⅈ ⎦"
      ]
     },
     "execution_count": 91,
     "metadata": {},
     "output_type": "execute_result"
    }
   ],
   "source": [
    "# 1.1 SOLVE\n",
    "z= symbols('z')\n",
    "solve(z**2+6*z+(1-2*I),z)\n",
    "\n"
   ]
  },
  {
   "cell_type": "code",
   "execution_count": 92,
   "metadata": {},
   "outputs": [
    {
     "data": {
      "image/png": "[encoded data removed]",
      "text/latex": [
       "$$\\left [ -3 - \\frac{i}{2}, \\quad -3 + \\frac{i}{2}\\right ]$$"
      ],
      "text/plain": [
       "⎡     ⅈ       ⅈ⎤\n",
       "⎢-3 - ─, -3 + ─⎥\n",
       "⎣     2       2⎦"
      ]
     },
     "execution_count": 92,
     "metadata": {},
     "output_type": "execute_result"
    }
   ],
   "source": [
    "solve(4*z**2+24*z+37,z)\n"
   ]
  },
  {
   "cell_type": "code",
   "execution_count": 93,
   "metadata": {},
   "outputs": [
    {
     "data": {
      "image/png": "[encoded data removed]",
      "text/latex": [
       "$$\\left ( 2 \\sin{\\left (\\frac{5 x}{2} \\right )} - 1, \\quad x\\right )$$"
      ],
      "text/plain": [
       "⎛     ⎛5⋅x⎞       ⎞\n",
       "⎜2⋅sin⎜───⎟ - 1, x⎟\n",
       "⎝     ⎝ 2 ⎠       ⎠"
      ]
     },
     "execution_count": 93,
     "metadata": {},
     "output_type": "execute_result"
    }
   ],
   "source": [
    "eqn = (2*sin(5*x/2)-1,x)\n",
    "eqn\n"
   ]
  },
  {
   "cell_type": "code",
   "execution_count": 94,
   "metadata": {},
   "outputs": [
    {
     "data": {
      "image/png": "[encoded data removed]",
      "text/latex": [
       "$$\\left ( 2 \\sin{\\left (\\frac{5 x}{2} \\right )} - 1, \\quad \\sin{\\left (5 x \\right )}\\right )$$"
      ],
      "text/plain": [
       "⎛     ⎛5⋅x⎞              ⎞\n",
       "⎜2⋅sin⎜───⎟ - 1, sin(5⋅x)⎟\n",
       "⎝     ⎝ 2 ⎠              ⎠"
      ]
     },
     "execution_count": 94,
     "metadata": {},
     "output_type": "execute_result"
    }
   ],
   "source": [
    "eqn = (2*sin(5*x/2)-1,sin(5*x))\n",
    "eqn\n"
   ]
  },
  {
   "cell_type": "code",
   "execution_count": 95,
   "metadata": {},
   "outputs": [
    {
     "data": {
      "image/png": "[encoded data removed]",
      "text/latex": [
       "$$\\left [ 0, \\quad - \\sqrt{3} i, \\quad \\sqrt{3} i\\right ]$$"
      ],
      "text/plain": [
       "[0, -√3⋅ⅈ, √3⋅ⅈ]"
      ]
     },
     "execution_count": 95,
     "metadata": {},
     "output_type": "execute_result"
    }
   ],
   "source": [
    "solve(3*x**2+1-(x**2+1)**3)"
   ]
  },
  {
   "cell_type": "code",
   "execution_count": 96,
   "metadata": {},
   "outputs": [
    {
     "data": {
      "image/png": "[encoded data removed]",
      "text/latex": [
       "$$\\left ( 4 \\cos^{2}{\\left (x \\right )} \\cot{\\left (x \\right )} - \\cot{\\left (x \\right )}, \\quad x\\right )$$"
      ],
      "text/plain": [
       "⎛     2                      ⎞\n",
       "⎝4⋅cos (x)⋅cot(x) - cot(x), x⎠"
      ]
     },
     "execution_count": 96,
     "metadata": {},
     "output_type": "execute_result"
    }
   ],
   "source": [
    "eqn =((4*cot(x)*cos(x)**2)-(cot(x)),x)\n",
    "eqn"
   ]
  },
  {
   "cell_type": "code",
   "execution_count": 97,
   "metadata": {},
   "outputs": [
    {
     "data": {
      "image/png": "[encoded data removed]",
      "text/latex": [
       "$$\\left ( 4 \\cos^{2}{\\left (x \\right )} \\cot{\\left (x \\right )} - \\cot{\\left (x \\right )}, \\quad \\cos{\\left (x \\right )}\\right )$$"
      ],
      "text/plain": [
       "⎛     2                           ⎞\n",
       "⎝4⋅cos (x)⋅cot(x) - cot(x), cos(x)⎠"
      ]
     },
     "execution_count": 97,
     "metadata": {},
     "output_type": "execute_result"
    }
   ],
   "source": [
    "eqn =((4*cot(x)*cos(x)**2)-(cot(x)),cos(x))\n",
    "eqn"
   ]
  },
  {
   "cell_type": "code",
   "execution_count": 98,
   "metadata": {},
   "outputs": [
    {
     "data": {
      "image/png": "[encoded data removed]",
      "text/latex": [
       "$$4 \\cos{\\left (2 x \\right )}$$"
      ],
      "text/plain": [
       "4⋅cos(2⋅x)"
      ]
     },
     "execution_count": 98,
     "metadata": {},
     "output_type": "execute_result"
    }
   ],
   "source": [
    "#1.2 DIFFERENTIATION\n",
    "diff(2*sin(2*x),x)"
   ]
  },
  {
   "cell_type": "code",
   "execution_count": 99,
   "metadata": {},
   "outputs": [
    {
     "data": {
      "image/png": "[encoded data removed]",
      "text/latex": [
       "$$0$$"
      ],
      "text/plain": [
       "0"
      ]
     },
     "execution_count": 99,
     "metadata": {},
     "output_type": "execute_result"
    }
   ],
   "source": [
    "diff(cos(x)/cos(x)+1)"
   ]
  },
  {
   "cell_type": "code",
   "execution_count": 100,
   "metadata": {},
   "outputs": [
    {
     "data": {
      "image/png": "[encoded data removed]",
      "text/latex": [
       "$$\\frac{2}{\\left(x - 1\\right)^{2}} - \\frac{2 \\left(x^{2} + 1\\right)}{x \\left(x - 1\\right)^{3}} - \\frac{x^{2} + 1}{x^{2} \\left(x - 1\\right)^{2}}$$"
      ],
      "text/plain": [
       "             ⎛ 2    ⎞       2      \n",
       "   2       2⋅⎝x  + 1⎠      x  + 1  \n",
       "──────── - ────────── - ───────────\n",
       "       2            3    2        2\n",
       "(x - 1)    x⋅(x - 1)    x ⋅(x - 1) "
      ]
     },
     "execution_count": 100,
     "metadata": {},
     "output_type": "execute_result"
    }
   ],
   "source": [
    "diff((x**2+1)/(x*(x-1)**2))"
   ]
  },
  {
   "cell_type": "code",
   "execution_count": 101,
   "metadata": {},
   "outputs": [
    {
     "data": {
      "image/png": "[encoded data removed]",
      "text/latex": [
       "$$- \\cos{\\left (2 x \\right )}$$"
      ],
      "text/plain": [
       "-cos(2⋅x)"
      ]
     },
     "execution_count": 101,
     "metadata": {},
     "output_type": "execute_result"
    }
   ],
   "source": [
    "#1.3 INTEGRATION\n",
    "integrate(2*sin(2*x),x)"
   ]
  },
  {
   "cell_type": "code",
   "execution_count": 102,
   "metadata": {},
   "outputs": [
    {
     "data": {
      "image/png": "[encoded data removed]",
      "text/latex": [
       "$$x - \\tan{\\left (\\frac{x}{2} \\right )}$$"
      ],
      "text/plain": [
       "       ⎛x⎞\n",
       "x - tan⎜─⎟\n",
       "       ⎝2⎠"
      ]
     },
     "execution_count": 102,
     "metadata": {},
     "output_type": "execute_result"
    }
   ],
   "source": [
    "integrate(cos(x)/(cos(x)+1), x)"
   ]
  },
  {
   "cell_type": "code",
   "execution_count": 103,
   "metadata": {},
   "outputs": [
    {
     "data": {
      "image/png": "[encoded data removed]",
      "text/latex": [
       "$$\\log{\\left (x \\right )} - \\frac{2}{x - 1}$$"
      ],
      "text/plain": [
       "           2  \n",
       "log(x) - ─────\n",
       "         x - 1"
      ]
     },
     "execution_count": 103,
     "metadata": {},
     "output_type": "execute_result"
    }
   ],
   "source": [
    "integrate((x**2+1)/(x*(x-1)**2))"
   ]
  },
  {
   "cell_type": "code",
   "execution_count": 150,
   "metadata": {},
   "outputs": [
    {
     "data": {
      "image/png": "[encoded data removed]",
      "text/plain": [
       "<matplotlib.figure.Figure at 0x7fc8bd0c39e8>"
      ]
     },
     "metadata": {},
     "output_type": "display_data"
    }
   ],
   "source": [
    "#1.4\n",
    "from numpy import *\n",
    "import math\n",
    "import matplotlib.pyplot as plt\n",
    "\n",
    "x = linspace(0,2*math.pi,400)\n",
    "a = sin(x)\n",
    "b = sin(2*x)\n",
    "c = sin(3*x)\n",
    "d = sin(4*x)\n",
    "plt.plot(x, a, x, b, x, c, x , d)\n",
    "plt.show()"
   ]
  },
  {
   "cell_type": "code",
   "execution_count": null,
   "metadata": {},
   "outputs": [],
   "source": []
  },
  {
   "cell_type": "code",
   "execution_count": 118,
   "metadata": {},
   "outputs": [
    {
     "data": {
      "text/latex": [
       "$$\\left[\\begin{matrix}- \\frac{13}{12}\\\\\\frac{28}{3}\\\\\\frac{41}{12}\\\\- \\frac{11}{2}\\end{matrix}\\right]$$"
      ],
      "text/plain": [
       "⎡-13  ⎤\n",
       "⎢──── ⎥\n",
       "⎢ 12  ⎥\n",
       "⎢     ⎥\n",
       "⎢28/3 ⎥\n",
       "⎢     ⎥\n",
       "⎢ 41  ⎥\n",
       "⎢ ──  ⎥\n",
       "⎢ 12  ⎥\n",
       "⎢     ⎥\n",
       "⎣-11/2⎦"
      ]
     },
     "execution_count": 118,
     "metadata": {},
     "output_type": "execute_result"
    }
   ],
   "source": [
    "#3.1 LINEAR ALGEBRA\n",
    "A = Matrix([[4, 3, 2, 1],[-1, 1, -1, 0],[0, 3, 0, 2],[0, 2, 2, 1]])\n",
    "B = Matrix([25, 7, 17, 20])\n",
    "A.solve(B)"
   ]
  },
  {
   "cell_type": "code",
   "execution_count": 115,
   "metadata": {},
   "outputs": [
    {
     "data": {
      "text/latex": [
       "$$\\left[\\begin{matrix}- \\frac{13}{12}\\\\\\frac{28}{3}\\\\\\frac{41}{12}\\\\- \\frac{11}{2}\\end{matrix}\\right]$$"
      ],
      "text/plain": [
       "⎡-13  ⎤\n",
       "⎢──── ⎥\n",
       "⎢ 12  ⎥\n",
       "⎢     ⎥\n",
       "⎢28/3 ⎥\n",
       "⎢     ⎥\n",
       "⎢ 41  ⎥\n",
       "⎢ ──  ⎥\n",
       "⎢ 12  ⎥\n",
       "⎢     ⎥\n",
       "⎣-11/2⎦"
      ]
     },
     "execution_count": 115,
     "metadata": {},
     "output_type": "execute_result"
    }
   ],
   "source": [
    "A = Matrix([[4, 3, 2 ,1],[-1, 1, -1, 0], [0, 3, 0, 2], [0, 2, 2, 1]])\n",
    "X = Matrix([25, 7, 17, 20])\n",
    "A.solve_least_squares(X)\n"
   ]
  },
  {
   "cell_type": "code",
   "execution_count": 128,
   "metadata": {},
   "outputs": [
    {
     "data": {
      "text/latex": [
       "$$\\left[\\begin{matrix}- \\frac{13}{12}\\\\\\frac{28}{3}\\\\\\frac{41}{12}\\\\- \\frac{11}{2}\\end{matrix}\\right]$$"
      ],
      "text/plain": [
       "⎡-13  ⎤\n",
       "⎢──── ⎥\n",
       "⎢ 12  ⎥\n",
       "⎢     ⎥\n",
       "⎢28/3 ⎥\n",
       "⎢     ⎥\n",
       "⎢ 41  ⎥\n",
       "⎢ ──  ⎥\n",
       "⎢ 12  ⎥\n",
       "⎢     ⎥\n",
       "⎣-11/2⎦"
      ]
     },
     "execution_count": 128,
     "metadata": {},
     "output_type": "execute_result"
    }
   ],
   "source": [
    "A = Matrix([[4, 3, 2 ,1],[-1, 1, -1, 0], [0, 3, 0, 2], [0, 2, 2, 1]])\n",
    "C = Matrix([25, 7, 17, 20])\n",
    "A.LDLsolve(C)"
   ]
  },
  {
   "cell_type": "code",
   "execution_count": 132,
   "metadata": {},
   "outputs": [
    {
     "data": {
      "image/png": "[encoded data removed]",
      "text/latex": [
       "$$\\left [ 0, \\quad 2, \\quad \\frac{11}{4}\\right ]$$"
      ],
      "text/plain": [
       "[0, 2, 11/4]"
      ]
     },
     "execution_count": 132,
     "metadata": {},
     "output_type": "execute_result"
    }
   ],
   "source": [
    "#3.2\n",
    "t = symbols ('t')\n",
    "M = Matrix([[1, 4, t],[t-1, 6, t],[ 2, 9, t**2]] )\n",
    "n= det(M)\n",
    "solve(n)"
   ]
  },
  {
   "cell_type": "code",
   "execution_count": 139,
   "metadata": {},
   "outputs": [
    {
     "data": {
      "image/png": "[encoded data removed]",
      "text/latex": [
       "$$- \\frac{32}{\\pi^{2}} \\cos{\\left (\\frac{\\pi t}{2} \\right )} + \\frac{8}{\\pi^{2}} \\cos{\\left (\\pi t \\right )} + \\frac{8}{3}$$"
      ],
      "text/plain": [
       "        ⎛π⋅t⎞                 \n",
       "  32⋅cos⎜───⎟                 \n",
       "        ⎝ 2 ⎠   8⋅cos(π⋅t)   8\n",
       "- ─────────── + ────────── + ─\n",
       "        2            2       3\n",
       "       π            π         "
      ]
     },
     "execution_count": 139,
     "metadata": {},
     "output_type": "execute_result"
    }
   ],
   "source": [
    "#4.1 FOIURIER\n",
    "from sympy import fourier_series, pi\n",
    "from sympy.abc import t\n",
    "s = fourier_series(t**2,(t,-2 , 2))\n",
    "s.scale(2).truncate()\n"
   ]
  },
  {
   "cell_type": "code",
   "execution_count": 149,
   "metadata": {},
   "outputs": [
    {
     "data": {
      "image/png": "[encoded data removed]",
      "text/plain": [
       "<matplotlib.figure.Figure at 0x7fc8c0608748>"
      ]
     },
     "metadata": {},
     "output_type": "display_data"
    },
    {
     "data": {
      "text/plain": [
       "<sympy.plotting.plot.Plot at 0x7fc8c0608668>"
      ]
     },
     "execution_count": 149,
     "metadata": {},
     "output_type": "execute_result"
    }
   ],
   "source": [
    "a = (t**2)\n",
    "plot(a)"
   ]
  },
  {
   "cell_type": "code",
   "execution_count": 154,
   "metadata": {},
   "outputs": [
    {
     "name": "stdout",
     "output_type": "stream",
     "text": [
      "False\n",
      "False\n"
     ]
    },
    {
     "data": {
      "text/plain": [
       "False"
      ]
     },
     "execution_count": 154,
     "metadata": {},
     "output_type": "execute_result"
    }
   ],
   "source": [
    " def is_odd(a):\n",
    "...     return bool(a - ((a>>1)<<1))\n",
    "...\n",
    " print(is_odd(10))\n",
    "True\n",
    "print(is_odd(-10))\n",
    "False"
   ]
  },
  {
   "cell_type": "code",
   "execution_count": null,
   "metadata": {
    "collapsed": true
   },
   "outputs": [],
   "source": []
  }
 ],
 "metadata": {
  "kernelspec": {
   "display_name": "Python 3",
   "language": "python",
   "name": "python3"
  },
  "language_info": {
   "codemirror_mode": {
    "name": "ipython",
    "version": 3
   },
   "file_extension": ".py",
   "mimetype": "text/x-python",
   "name": "python",
   "nbconvert_exporter": "python",
   "pygments_lexer": "ipython3",
   "version": "3.6.1"
  }
 },
 "nbformat": 4,
 "nbformat_minor": 2
}
